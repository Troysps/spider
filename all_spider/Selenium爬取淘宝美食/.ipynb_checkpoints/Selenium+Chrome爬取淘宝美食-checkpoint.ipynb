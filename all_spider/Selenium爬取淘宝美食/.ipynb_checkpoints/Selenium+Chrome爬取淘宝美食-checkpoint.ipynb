{
 "cells": [
  {
   "cell_type": "markdown",
   "metadata": {},
   "source": [
    "# Selenium+Chrome/PhantomJS 爬取淘宝美食"
   ]
  },
  {
   "cell_type": "markdown",
   "metadata": {},
   "source": [
    "### 项目流程：\n",
    "#### P1：搜索关键字——利用selenium驱动浏览器搜索关键字 得到查询后的商品列表\n",
    "#### P2：分析页码并翻页——得到商品页码数，模拟翻页，得到后续页面的商品列表\n",
    "#### P3：分析提取商品内容——利用PyQuery分析源码，解析得到商品列表\n",
    "#### P4：存储至MongoDB——将商品列表存储到数据库MongoDB\n",
    "#### 技术工具：Selenium pyquery os mymongo"
   ]
  },
  {
   "cell_type": "code",
   "execution_count": null,
   "metadata": {
    "collapsed": true
   },
   "outputs": [],
   "source": [
    "from selenium import webdriver\n",
    "from selenium.webdriver.common.by import By\n",
    "from selenium.webdriver.support.ui import WebDriverWait\n",
    "from selenium.webdriver.support import expected_conditions as EC\n",
    "from config import *\n",
    "\n",
    "import re\n",
    "from pyquery import PyQuery as pq\n",
    "import pymongo\n",
    "\n",
    "client = pymongo.MongoClient(MONGO_URL) # 申明一个mongodb对象\n",
    "db = client[MONGO_DB] # 数据库\n",
    "\n",
    "browser = webdriver.Chrome()\n",
    "wait = WebDriverWait(browser, 30)\n",
    "\n",
    "def search_delifood(URL, KEYWORD):\n",
    "    try:\n",
    "        browser.get(URL)\n",
    "        enter = wait.until(\n",
    "            EC.presence_of_element_located((By.ID, \"q\"))\n",
    "        )\n",
    "        click = wait.until(\n",
    "            EC.element_to_be_clickable((By.CSS_SELECTOR, \"#J_TSearchForm > div.search-button > button\"))\n",
    "        )\n",
    "        enter.send_keys('美食')\n",
    "        click.click()\n",
    "\n",
    "        total_pages = wait.until(\n",
    "            EC.presence_of_element_located((By.CSS_SELECTOR, \"#mainsrp-pager > div > div > div > div.total\"))\n",
    "        )\n",
    "        pattern = re.compile('(\\d+)')\n",
    "        pagesnum = re.search(pattern, total_pages.text).group(1)\n",
    "        print(pagesnum)\n",
    "        html = browser.page_source\n",
    "        parse_html(html)\n",
    "        return int(pagesnum)\n",
    "    except:\n",
    "        print('模拟搜索关键字失败 TIME OUT', URL, KEYWORD)\n",
    "        return search_delifood(URL, KEYWORD)\n",
    "\n",
    "def parse_scroll_page(START_PAGE,pagenum):\n",
    "    try:\n",
    "        items = wait.until(\n",
    "            EC.presence_of_element_located((By.CSS_SELECTOR, \"#mainsrp-itemlist > div > div\"))\n",
    "        )\n",
    "        enter = wait.until(\n",
    "            EC.presence_of_element_located((By.CSS_SELECTOR, \"#mainsrp-pager > div > div > div > div.form > input\"))\n",
    "        )\n",
    "        click = wait.until(\n",
    "            EC.element_to_be_clickable((By.CSS_SELECTOR, \"#mainsrp-pager > div > div > div > div.form > span.btn.J_Submit\"))\n",
    "        )\n",
    "        for page in range(START_PAGE, pagenum+1):\n",
    "            enter.clear()\n",
    "            enter.send_keys(page)\n",
    "            click.click()\n",
    "            html = browser.page_source\n",
    "            print(browser.current_url)\n",
    "            parse_html(html)\n",
    "    except:\n",
    "        print('Scorll Error TIME OUT', page, browser.current_url)\n",
    "        print(page)\n",
    "        return parse_scroll_page(page, pagenum)\n",
    "    \n",
    "\n",
    "def parse_html(html):\n",
    "    try:\n",
    "        wait.until(EC.presence_of_element_located((By.CSS_SELECTOR, '#mainsrp-itemlist .items .item')))\n",
    "        doc = pq(html)\n",
    "        items = doc('#mainsrp-itemlist .items .item').items()\n",
    "        for item in items:\n",
    "        product = {\n",
    "            'image':item.find('.pic .img').attr('data-src'),\n",
    "            'price':item.find('.price').text(),\n",
    "            'deal':item.find('.deal-cnt').text()[:-3],\n",
    "            'title':item.find('.title').text(),\n",
    "            'shop':item.find('.shop').text(),\n",
    "            'location':item.find('.location').text()\n",
    "        }\n",
    "        print(product)\n",
    "        save_to_mongoDB(product)\n",
    "    except:\n",
    "        print('html parse error')\n",
    "        return parse_html(html)\n",
    "\n",
    "def save_to_mongoDB(result):\n",
    "    try:\n",
    "        if db[MONGO_TABLE].insert(result):\n",
    "            print('存储成功', result)\n",
    "            return True\n",
    "    except Exception:\n",
    "        print('存储失败', result)\n",
    "\n",
    "def main():\n",
    "    total_pages = search_delifood(URL, KEYWORD)\n",
    "    parse_scroll_page(START_PAGE, total_pages)\n",
    "    \n",
    "if __name__ == '__main__':\n",
    "    main()"
   ]
  },
  {
   "cell_type": "code",
   "execution_count": 3,
   "metadata": {},
   "outputs": [
    {
     "data": {
      "text/plain": [
       "'<!DOCTYPE html><html xmlns=\"http://www.w3.org/1999/xhtml\" lang=\"zh-CN\" class=\"ks-webkit537 ks-webkit ks-chrome62 ks-chrome\"><head><script type=\"text/javascript\" async=\"\" src=\"https://g.alicdn.com/alilog/oneplus/entry.js?t=210824\"></script><script src=\"https://localhost.wwbizsrv.alibaba.com:4813?_ksTS=1517937073572_821&amp;callback=jsonp822\" async=\"\"></script><script src=\"https://amos.alicdn.com/mulstatus?_ksTS=1517937073110_793&amp;callback=jsonp794&amp;beginnum=0&amp;charset=utf-8&amp;uids=%E7%'"
      ]
     },
     "execution_count": 3,
     "metadata": {},
     "output_type": "execute_result"
    }
   ],
   "source": [
    "# -*- coding: utf-8 -*—\n",
    "from selenium import webdriver\n",
    "url = 'https://s.taobao.com/search?q=%E7%BE%8E%E9%A3%9F&imgfile=&commend=all&ssid=s5-e&search_type=item&sourceId=tb.index&spm=a21bo.2017.201856-taobao-item.1&ie=utf8&initiative_id=tbindexz_20170306'\n",
    "browser = webdriver.Chrome()\n",
    "browser.get(url)\n",
    "browser.page_source[:500]"
   ]
  },
  {
   "cell_type": "code",
   "execution_count": 10,
   "metadata": {},
   "outputs": [
    {
     "name": "stdout",
     "output_type": "stream",
     "text": [
      "{'image': '//g-search1.alicdn.com/img/bao/uploaded/i4/imgextra/i3/1129506063780078357/TB2HiLEtl8lpuFjSspaXXXJKpXa_!!0-saturn_solar.jpg_180x180.jpg_.webp', 'price': '¥ 9.98', 'deal': '1322', 'title': '买三包邮羊杂汤内蒙古特产羊杂碎羊汤羊肉汤即食羊肉类熟食238g', 'shop': '骄子牧场旗舰店', 'location': '内蒙古 呼和浩特'}\n",
      "{'image': '//g-search2.alicdn.com/img/bao/uploaded/i4/i1/619123122/TB1dc3OfqLN8KJjSZFvXXXW8VXa_!!0-item_pic.jpg_180x180.jpg_.webp', 'price': '¥ 20.90', 'deal': '63423', 'title': '良品铺子肉松饼传统糕点点心零食早餐 美食 特产小吃休闲食品散装', 'shop': '良品铺子旗舰店', 'location': '湖北 武汉'}\n",
      "{'image': '//g-search3.alicdn.com/img/bao/uploaded/i4/i3/725677994/TB1eue6XQOWBuNjSsppXXXPgpXa_!!0-item_pic.jpg_180x180.jpg_.webp', 'price': '¥ 36.90', 'deal': '27999', 'title': '良品铺子麻薯组合1050g早餐点心 美食 早餐糕点零食大礼包特产', 'shop': '天猫超市', 'location': '上海'}\n",
      "{'image': '//g-search1.alicdn.com/img/bao/uploaded/i4/i2/732501769/TB1Tmj4m3vD8KJjSsplXXaIEFXa_!!0-item_pic.jpg_180x180.jpg_.webp', 'price': '¥ 26.90', 'deal': '2123', 'title': '来伊份提子蛋糕250gx2营养早餐食品手撕口袋软面包 美食 散装来一份', 'shop': '来伊份官方旗舰店', 'location': '上海'}\n",
      "{'image': '//g-search1.alicdn.com/img/bao/uploaded/i4/i1/TB1J_gCSpXXXXXBXVXXXXXXXXXX_!!0-item_pic.jpg_180x180.jpg_.webp', 'price': '¥ 89.90', 'deal': '5', 'title': '巴莉甜甜一口土凤梨酥320g*2盒休闲零食点心台湾特色小吃糕点 美食', 'shop': '巴莉甜甜旗舰店', 'location': '上海'}\n",
      "{'image': '//g-search3.alicdn.com/img/bao/uploaded/i4/i1/291668896/TB2iH1kaAfA11Bjy0FcXXc4cXXa_!!291668896.jpg_180x180.jpg_.webp', 'price': '¥ 59.90', 'deal': '5', 'title': '甘肃岷县小吃亚亚点心传统糕点特产 美食 1000g2斤包邮送礼佳品', 'shop': '浪迹天涯90', 'location': '甘肃 定西'}\n",
      "{'image': '//g-search3.alicdn.com/img/bao/uploaded/i4/i1/2519123597/TB2igNQcr5K.eBjy0FnXXaZzVXa_!!2519123597.jpg_180x180.jpg_.webp', 'price': '¥ 37.00', 'deal': '1', 'title': '岷县特产岷县漫漫点心传统 美食 特价传统糕点两包1000g包邮', 'shop': '西北阿星', 'location': '甘肃 定西'}\n",
      "{'image': '//g-search2.alicdn.com/img/bao/uploaded/i4/i1/40131080/TB2B80xuYtlpuFjSspoXXbcDpXa_!!40131080.jpg_180x180.jpg_.webp', 'price': '¥ 70.00', 'deal': '3', 'title': '湿牛肉干内蒙古毕力格超干牛肉干手撕牛肉干500g零食小吃特产 美食', 'shop': 'bmrh1001', 'location': '内蒙古 巴彦淖尔'}\n",
      "{'image': '//g-search3.alicdn.com/img/bao/uploaded/i4/i1/38322905/TB2t7I5glTH8KJjy0FiXXcRsXXa_!!38322905.jpg_180x180.jpg_.webp', 'price': '¥ 15.80', 'deal': '1', 'title': '江西特产纯正牛肉 胡老太沙嗲牛肉80G 江西零食小吃 美食 品 包邮', 'shop': 'wanjingyan', 'location': '江西 南昌'}\n",
      "{'image': '//g-search2.alicdn.com/img/bao/uploaded/i4/i1/1651513856/TB1MFIYiBHH8KJjy0FbXXcqlpXa_!!0-item_pic.jpg_180x180.jpg_.webp', 'price': '¥ 33.60', 'deal': '402', 'title': '银祥姜母鸭组合装卤味熟食肉类鸭肉伴闽南风味伴手礼厦门特色 美食', 'shop': '手礼网官方旗舰店', 'location': '福建 厦门'}\n",
      "{'image': '//g-search3.alicdn.com/img/bao/uploaded/i4/i3/TB1mIz4OXXXXXb3XpXXXXXXXXXX_!!2-item_pic.png_180x180.jpg_.webp', 'price': '¥ 118.00', 'deal': '50', 'title': '手礼网厦门特产银祥三宝姜母鸭同安封肉 烧肉粽闽南 美食 年货礼盒', 'shop': '手礼网官方旗舰店', 'location': '福建 厦门'}\n",
      "{'image': '//g-search2.alicdn.com/img/bao/uploaded/i4/i2/38322905/TB27Pnfejgy_uJjSZTEXXcYkFXa_!!38322905.jpg_180x180.jpg_.webp', 'price': '¥ 23.80', 'deal': '26', 'title': '江西特产 江西南昌麻姑米粉2000g 南昌炒粉 舌尖上的 美食 包邮', 'shop': 'wanjingyan', 'location': '江西 南昌'}\n",
      "{'image': '//g-search2.alicdn.com/img/bao/uploaded/i4/i1/2563491604/TB2d.IVsl8lpuFjSspaXXXJKpXa_!!2563491604.jpg_180x180.jpg_.webp', 'price': '¥ 117.00', 'deal': '1', 'title': '广西柳州特产 美食 小吃 8包整箱真空礼盒装 正宗原味怀螺香螺蛳粉', 'shop': '一代宗蛳', 'location': '广西 柳州'}\n",
      "{'image': '//g-search3.alicdn.com/img/bao/uploaded/i4/i4/698491999/TB1ELNSohTI8KJjSspiXXbM4FXa_!!2-item_pic.png_180x180.jpg_.webp', 'price': '¥ 23.38', 'deal': '1363', 'title': '【电子券】必胜客50元代金券/现金卷/优惠劵/抵用券 美食 卡/团购券', 'shop': '卡呗诺', 'location': '江苏 无锡'}\n",
      "{'image': '//g-search1.alicdn.com/img/bao/uploaded/i4/i3/TB1qGTlQFXXXXcJaXXXXXXXXXXX_!!0-item_pic.jpg_180x180.jpg_.webp', 'price': '¥ 126.00', 'deal': '40', 'title': '日本MellChan咪露娃娃 美食 广场理发店场景配件女孩益智玩具', 'shop': 'kidsland官方旗舰店', 'location': '北京'}\n",
      "{'image': '//g-search3.alicdn.com/img/bao/uploaded/i4/i2/710962071/TB1_Lgede38SeJjSZFPXXc_vFXa_!!0-item_pic.jpg_180x180.jpg_.webp', 'price': '¥ 179.00', 'deal': '4', 'title': '艾格ES  夏新品时尚 美食 印花抽绳收腰长袖休闲衫女17031405086', 'shop': '艾格官方旗舰店', 'location': '上海'}\n",
      "{'image': '//g.alicdn.com/s.gif', 'price': '¥ 139.00', 'deal': '2678', 'title': '广州陶陶居酒家特产色糕点零食手信大礼盒包正宗广东 美食 小吃点心', 'shop': '广州饮食集团旗舰店', 'location': '广东 广州'}\n",
      "{'image': '//g.alicdn.com/s.gif', 'price': '¥ 129.00', 'deal': '20394', 'title': '稻香村糕点礼盒3000g特产小吃北京点心好吃的零食大礼包传统 美食', 'shop': '稻香村食品旗舰店', 'location': '北京'}\n",
      "{'image': '//g.alicdn.com/s.gif', 'price': '¥ 79.00', 'deal': '4001', 'title': '稻香村糕点礼盒点心年货礼盒北京特产大礼包 美食 京八件传统点心礼', 'shop': '稻香村品牌店', 'location': '北京'}\n",
      "{'image': '//g.alicdn.com/s.gif', 'price': '¥ 39.90', 'deal': '11526', 'title': '20枚玫瑰鲜花饼云南特产玫瑰花饼胡先生正宗糕点早餐零食 美食 1kg', 'shop': 'mrhu旗舰店', 'location': '云南 昆明'}\n",
      "{'image': '//g.alicdn.com/s.gif', 'price': '¥ 35.60', 'deal': '7062', 'title': '丫眯玫瑰鲜花饼云南特产年货礼盒过年食品零食 美食 拜年春节大礼包', 'shop': '潮昂食品专营店', 'location': '云南 昆明'}\n",
      "{'image': '//g.alicdn.com/s.gif', 'price': '¥ 17.80', 'deal': '26894', 'title': '丫眯玫瑰鲜花饼云南特产好吃的零食小吃 美食 早餐过年食品年货批发', 'shop': '潮昂食品专营店', 'location': '云南 昆明'}\n",
      "{'image': '//g.alicdn.com/s.gif', 'price': '¥ 38.50', 'deal': '9355', 'title': '正宗友臣肉松饼整箱2.5斤装 特产早餐糕点小吃面包 美食 零食品年货', 'shop': '猫诚旗舰店', 'location': '上海'}\n",
      "{'image': '//g.alicdn.com/s.gif', 'price': '¥ 18.90', 'deal': '50865', 'title': '正宗安徽特产黄山烧饼60个梅干菜扣肉酥饼 美食 糕点心零食小吃批发', 'shop': '徽味和旗舰店', 'location': '安徽 黄山'}\n",
      "{'image': '//g.alicdn.com/s.gif', 'price': '¥ 32.90', 'deal': '31407', 'title': '徐福记沙琪玛470gx2袋 早餐早点 美食 品糕点心特产小吃零食大礼包', 'shop': '徐福记官方旗舰店', 'location': '上海'}\n",
      "{'image': '//g.alicdn.com/s.gif', 'price': '¥ 26.90', 'deal': '50780', 'title': '【三只松鼠_夹心麻薯210gx3】传统糕点点心年货 美食 早餐零食组合', 'shop': '三只松鼠旗舰店', 'location': '安徽 芜湖'}\n",
      "{'image': '//g.alicdn.com/s.gif', 'price': '¥ 19.80', 'deal': '18431', 'title': '重庆特产陈吉旺福小麻花小辫512g密子君网红零食糕点传统 美食 小吃', 'shop': '醇厚食品专营店', 'location': '四川 成都'}\n",
      "{'image': '//g.alicdn.com/s.gif', 'price': '¥ 31.80', 'deal': '33986', 'title': '上好旺金华酥饼梅干菜肉黄山烧饼浙江特产糕点心正宗 美食 小吃零食', 'shop': '上好旺旗舰店', 'location': '浙江 金华'}\n",
      "{'image': '//g.alicdn.com/s.gif', 'price': '¥ 16.90', 'deal': '17648', 'title': '【百草味-肉松饼260gx2袋】早餐零食小吃 特产 美食 糕点点心', 'shop': '百草味旗舰店', 'location': '浙江 杭州'}\n",
      "{'image': '//g.alicdn.com/s.gif', 'price': '¥ 16.90', 'deal': '47166', 'title': '【三只松鼠_和风麻薯210gx2袋】休闲零食糕点 美食 小吃抹茶麻薯', 'shop': '三只松鼠旗舰店', 'location': '安徽 芜湖'}\n",
      "{'image': '//g.alicdn.com/s.gif', 'price': '¥ 74.50', 'deal': '3080', 'title': '友臣旗舰店友臣肉松饼2.1kg年货节礼盒定制装 美食 早餐饼整箱', 'shop': '友臣旗舰店', 'location': '福建 泉州'}\n",
      "{'image': '//g.alicdn.com/s.gif', 'price': '¥ 63.80', 'deal': '6187', 'title': '【黄老五原味/椒盐花生酥516g*2袋】 四川特产休闲 美食 传统糕点', 'shop': '黄老五食品旗舰店', 'location': '四川 内江'}\n",
      "{'image': '//g.alicdn.com/s.gif', 'price': '¥ 29.90', 'deal': '13976', 'title': '沈大成糕点桂花拉糕 上海特产老字号 传统糯米糕点心 网红 美食', 'shop': '沈大成旗舰店', 'location': '上海'}\n",
      "{'image': '//g.alicdn.com/s.gif', 'price': '¥ 15.90', 'deal': '22572', 'title': '重庆特产磁器口陈昌银陈麻花小麻花零食袋装年货网红小吃 美食 天津', 'shop': '陈昌银旗舰店', 'location': '重庆'}\n",
      "{'image': '//g.alicdn.com/s.gif', 'price': '¥ 20.90', 'deal': '6148', 'title': '【百草味-夹心麻薯210gx2袋】零食小吃糕点 早餐 美食 点心干吃汤圆', 'shop': '百草味旗舰店', 'location': '浙江 杭州'}\n",
      "{'image': '//g.alicdn.com/s.gif', 'price': '¥ 42.80', 'deal': '12244', 'title': '【黄老五 黑芝麻酥188g*3袋】四川特产零食 休闲 美食 传统糕点', 'shop': '黄老五食品旗舰店', 'location': '四川 内江'}\n",
      "{'image': '//g-search1.alicdn.com/img/bao/uploaded/i4/i3/880734502/TB19weQXijQBKNjSZFnXXa_DpXa_!!0-item_pic.jpg_180x180.jpg_.webp', 'price': '¥ 29.90', 'deal': '186680', 'title': '【三只松鼠手撕面包1kg】早餐食品小零食年货 美食 蛋糕点心整箱', 'shop': '三只松鼠旗舰店', 'location': '安徽 芜湖'}\n",
      "{'image': '//g-search2.alicdn.com/img/bao/uploaded/i4/i1/628189716/TB1rMAYXCtYBeNjSspkXXbU8VXa_!!0-item_pic.jpg_180x180.jpg_.webp', 'price': '¥ 29.80', 'deal': '56120', 'title': '【百草味-手撕面包1kg】早餐食品小蛋糕 美食 零食批发整箱年货礼盒', 'shop': '百草味旗舰店', 'location': '浙江 杭州'}\n",
      "{'image': '//g-search1.alicdn.com/img/bao/uploaded/i4/i4/TB1zXujPVXXXXaFapXXXXXXXXXX_!!0-item_pic.jpg_180x180.jpg_.webp', 'price': '¥ 69.00', 'deal': '1210', 'title': '40枚玫瑰鲜花饼云南特产玫瑰花饼胡先生正宗糕点早餐零食 美食 礼盒', 'shop': 'mrhu旗舰店', 'location': '云南 昆明'}\n",
      "{'image': '//g-search3.alicdn.com/img/bao/uploaded/i4/i4/2819783848/TB155gPmtzJ8KJjSspkXXbF7VXa_!!0-item_pic.jpg_180x180.jpg_.webp', 'price': '¥ 61.50', 'deal': '882', 'title': '正品 南京特产金陵 美食 夫子庙小吃 6盒大礼包 送礼品袋', 'shop': '仁尔斋食品旗舰店', 'location': '江苏 南京'}\n",
      "{'image': '//g-search3.alicdn.com/img/bao/uploaded/i4/i4/1692258071/TB14aupXTtYBeNjy1XdXXXXyVXa_!!0-item_pic.jpg_180x180.jpg_.webp', 'price': '¥ 32.90', 'deal': '9473', 'title': '稻香村牛舌饼360G*2 北京特产特色糕点心酥皮 美食 小吃零食', 'shop': '稻香村食品旗舰店', 'location': '北京'}\n",
      "{'image': '//g-search3.alicdn.com/img/bao/uploaded/i4/i1/2966404939/TB1bVbrmJzJ8KJjSspkXXbF7VXa_!!0-item_pic.jpg_180x180.jpg_.webp', 'price': '¥ 61.50', 'deal': '651', 'title': '正品 南京特产金陵 美食 夫子庙小吃 6盒大礼包 送礼品袋', 'shop': '酥房斋旗舰店', 'location': '江苏 南京'}\n",
      "{'image': '//g-search1.alicdn.com/img/bao/uploaded/i4/i1/2924319400/TB1JecocBUSMeJjy1zkXXaWmpXa_!!0-item_pic.jpg_180x180.jpg_.webp', 'price': '¥ 32.90', 'deal': '2787', 'title': '哈吉巴巴龙须酥正宗新疆特产龙须糖小吃甜食零食 美食 手工传统糕点', 'shop': '哈吉巴巴旗舰店', 'location': '浙江 温州'}\n",
      "{'image': '//g-search2.alicdn.com/img/bao/uploaded/i4/i3/2891702599/TB1aHxSXAOWBuNjSsppXXXPgpXa_!!0-item_pic.jpg_180x180.jpg_.webp', 'price': '¥ 160.00', 'deal': '479', 'title': '老杭邦礼盒【灯火阑珊】杭州特产糕点 美食 年货礼盒装特色零食礼品', 'shop': '老杭邦旗舰店', 'location': '浙江 杭州'}\n",
      "{'image': '//g.alicdn.com/s.gif', 'price': '¥ 55.90', 'deal': '2994', 'title': '盼盼肉松饼整箱 福建特产早餐糕点小吃面包 美食 零食食品批发2100g', 'shop': '盼盼食品官方旗舰店', 'location': '河南 漯河'}\n"
     ]
    },
    {
     "name": "stdout",
     "output_type": "stream",
     "text": [
      "{'image': '//g.alicdn.com/s.gif', 'price': '¥ 27.90', 'deal': '1231', 'title': '鲍师傅上海 美食 糕点 传统点心上海当日达海苔肉松 网红小贝顺丰', 'shop': '971299593rui', 'location': '上海'}\n",
      "{'image': '//g.alicdn.com/s.gif', 'price': '¥ 44.80', 'deal': '1758', 'title': '多省包邮 重庆特产磁器口陈建平麻花500g*3袋传统糕点零食 美食', 'shop': '重庆淘展食品专营店', 'location': '重庆'}\n",
      "{'image': '//g.alicdn.com/s.gif', 'price': '¥ 159.00', 'deal': '272', 'title': '台湾发顺丰佳德凤梨凤凰酥12入糕点零 美食 特产年节货礼盒蛋黄小吃', 'shop': 'awjblk88', 'location': '台湾 台中'}\n"
     ]
    }
   ],
   "source": [
    "from bs4 import BeautifulSoup\n",
    "from pyquery import PyQuery as pq\n",
    "html = browser.page_source\n",
    "doc = pq(html)\n",
    "items = doc('#mainsrp-itemlist .items .item').items()\n",
    "\n",
    "for item in items:\n",
    "    product = {\n",
    "        'image': item.find('.pic .img').attr('src'),\n",
    "        'price': item.find('.price').text(),\n",
    "        'deal': item.find('.deal-cnt').text()[:-3],\n",
    "        'title': item.find('.title').text(),\n",
    "        'shop': item.find('.shop').text(),\n",
    "        'location': item.find('.location').text(),\n",
    "        }\n",
    "    print(product)\n",
    "    \n"
   ]
  },
  {
   "cell_type": "code",
   "execution_count": null,
   "metadata": {
    "collapsed": true
   },
   "outputs": [],
   "source": []
  }
 ],
 "metadata": {
  "kernelspec": {
   "display_name": "Python 3",
   "language": "python",
   "name": "python3"
  },
  "language_info": {
   "codemirror_mode": {
    "name": "ipython",
    "version": 3
   },
   "file_extension": ".py",
   "mimetype": "text/x-python",
   "name": "python",
   "nbconvert_exporter": "python",
   "pygments_lexer": "ipython3",
   "version": "3.6.1"
  }
 },
 "nbformat": 4,
 "nbformat_minor": 2
}
