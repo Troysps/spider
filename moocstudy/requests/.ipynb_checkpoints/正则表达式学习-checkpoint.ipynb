{
 "cells": [
  {
   "cell_type": "markdown",
   "metadata": {},
   "source": [
    "# 正则表达式"
   ]
  },
  {
   "cell_type": "markdown",
   "metadata": {},
   "source": [
    "## 正则表达式概念\n",
    "### regular expression RE regex\n",
    "### 正则表达式是用来简洁表达一组字符串的表达式"
   ]
  },
  {
   "cell_type": "markdown",
   "metadata": {},
   "source": [
    "### 优势：简洁"
   ]
  },
  {
   "cell_type": "markdown",
   "metadata": {},
   "source": [
    "### 通用的字符串表达框架\n",
    "### 简洁表达一组字符串的表达式\n",
    "### 针对字符串表达‘简洁’和‘特征’思想的工具\n",
    "### 判断某字符串的特征"
   ]
  },
  {
   "cell_type": "markdown",
   "metadata": {},
   "source": [
    "## 正则表达式在文本处理中十分常用\n",
    "### 表达文本类型的特征\n",
    "### 同时查找或替换一组字符串\n",
    "### 匹配字符串的全部或部分"
   ]
  },
  {
   "cell_type": "markdown",
   "metadata": {},
   "source": [
    "## 正则表达式的使用\n",
    "### 编译：将符合正则表达式语法的字符串转化成正则表达式特征"
   ]
  },
  {
   "cell_type": "markdown",
   "metadata": {},
   "source": []
  },
  {
   "cell_type": "markdown",
   "metadata": {},
   "source": [
    "## 正则表达式语法"
   ]
  },
  {
   "cell_type": "markdown",
   "metadata": {},
   "source": [
    "### 常用操作符"
   ]
  },
  {
   "cell_type": "code",
   "execution_count": 1,
   "metadata": {
    "collapsed": true
   },
   "outputs": [],
   "source": [
    "### .(点)  表示任何单个字符\n",
    "###  []    字符集      [abc]表示a、b、c [a-z]表示a到z单个字符\n",
    "### [^]    非字符集    [^abc]表示非a或非b或非c的单个字符\n",
    "### *      前一个字符0次或无限次扩展  abc*表示 ab，abcc，abccc等\n",
    "### +      表示前一个字符1次或无限次扩展  abc+表示abc，abcc，abccc等\n",
    "### ？     表示前一个字符0次或1次扩展  abc表示ab，abc\n",
    "### |      表示左右表达式任意一个  abc|def 表示abc或def\n",
    "### {m}    表示扩展前一个字符m次   ab{2}c 表示abbc\n",
    "### {m,n}  表示扩展前一个字符m至n次   ab{1,2}c 表示abc或abbc\n",
    "### ^      表示匹配字符串开头         ^abc表示abc且在一个字符串的开头\n",
    "### $      表示匹配字符串结尾         abc$表示abc且在一个字符串的结尾\n",
    "### ()     分组标记，内部只能使用|操作符 (abc)表示abc (abc|def)表示abc、def\n",
    "### \\d     数字  等价于[0-9]\n",
    "### \\w     单词字符 等价于[A-Za-z0-9_]"
   ]
  },
  {
   "cell_type": "markdown",
   "metadata": {},
   "source": [
    "### 经典正则表达式实例"
   ]
  },
  {
   "cell_type": "code",
   "execution_count": 2,
   "metadata": {
    "collapsed": true
   },
   "outputs": [],
   "source": [
    "# ^[A-Za-z]+$              由26个字母组成的字符串\n",
    "# ^[A-Za-z0-9]+$           由26个字母和数字组成的字符串\n",
    "# ^-?\\d+$                  整数形式的字符串\n",
    "# ^[0-9]*[1-9][0-9]*$      正整数形式的字符串\n",
    "# [1-9]\\d{5}               中国境内邮政编码 6位\n",
    "# [\\u4e00-\\ufa5]           匹配中文字符\n",
    "# \\d{3}-\\{8}|\\d{4}-\\d{7}   国内电话号码"
   ]
  },
  {
   "cell_type": "markdown",
   "metadata": {},
   "source": [
    "### IP地址字符串形式的正则表达式\n",
    "###  (([0-9]?\\d|1\\d{2}|2[0-4]\\d|25[0-5]).){3}([0-9]?\\d|1\\d{2}|2[0-4]\\d|25[0-5])"
   ]
  },
  {
   "cell_type": "markdown",
   "metadata": {},
   "source": [
    "## re库基本使用\n",
    "### 正则表达式的表示类型\n",
    "#### raw string 类型 原生字符串类型 即r'    ' 避免转义符\n",
    "#### string 类型 更繁琐"
   ]
  },
  {
   "cell_type": "markdown",
   "metadata": {},
   "source": [
    "### re库主要功能函数"
   ]
  },
  {
   "cell_type": "markdown",
   "metadata": {},
   "source": [
    "### re.search()   在一个字符串中搜索匹配正则表达式的第一个位置 返回match对象\n",
    "### re.match()   从一个字符串的开始位置匹配正则表达式 返回match对象\n",
    "### re.findall()   搜索字符串 以列表形式返回全部能匹配的子串\n",
    "### re.split()      将一个字符串按照正则表达式匹配结果进行分割 返回列表类型\n",
    "### re.finditer() 搜索字符串 返回一个匹配结果的迭代类型 每个迭代元素是match对象\n",
    "### re.sub()       在一个字符串中替换所有正则表达式的子串 返回替换后的字符串"
   ]
  },
  {
   "cell_type": "code",
   "execution_count": 5,
   "metadata": {},
   "outputs": [
    {
     "name": "stdout",
     "output_type": "stream",
     "text": [
      "100081\n"
     ]
    }
   ],
   "source": [
    "# re.I 忽略正则表达式的大小写\n",
    "# re.M 正则表达式中的^操作符能够给定字符串的每行当作匹配开始\n",
    "# re.S 正则表达式中的.操作符能够匹配所有字符 默认匹配除换行外的所有字符\n",
    "# re.search(pattern, string, flags=0)\n",
    "# re.search() 在一个字符串中搜索匹配正则表达式的第一个位置 返回match对象\n",
    "import re\n",
    "match = re.search(r'[1-9]\\d{5}', 'BIT 100081') # 一个字符串的全部\n",
    "if match:\n",
    "    print(match.group(0))"
   ]
  },
  {
   "cell_type": "code",
   "execution_count": 8,
   "metadata": {},
   "outputs": [
    {
     "name": "stdout",
     "output_type": "stream",
     "text": [
      "100081\n"
     ]
    }
   ],
   "source": [
    "# re.match() 从一个字符串的开始位置匹配正则表达式 返回match对象\n",
    "import re\n",
    "match = re.match(r'[1-9]\\d{5}', 'BIT 100081') # 只匹配开头 判断开头是否存在\n",
    "if match:\n",
    "    print(match.group(0))"
   ]
  },
  {
   "cell_type": "code",
   "execution_count": 11,
   "metadata": {},
   "outputs": [
    {
     "data": {
      "text/plain": [
       "['100081', '100084']"
      ]
     },
     "execution_count": 11,
     "metadata": {},
     "output_type": "execute_result"
    }
   ],
   "source": [
    "# re.findall()搜索字符串 以列表形式返回全部能匹配的子串\n",
    "import re\n",
    "al = re.findall(r'[1-9]\\d{5}', 'BIT100081 TSU100084') # 一个字符串中的所有符合正则表达式的子串\n",
    "al "
   ]
  },
  {
   "cell_type": "code",
   "execution_count": 14,
   "metadata": {},
   "outputs": [
    {
     "data": {
      "text/plain": [
       "['BIT', ' TSU100084']"
      ]
     },
     "execution_count": 14,
     "metadata": {},
     "output_type": "execute_result"
    }
   ],
   "source": [
    "# re.split()将一个字符串按照正则表达式匹配结果进行分割 返回列表类型\n",
    "# re.split(pattern, string, maxsplit=0, flags=0)\n",
    "# maxsplit 最大分割数 剩余部分作为最后一个元素输出\n",
    "import re\n",
    "re.split(r'[1-9]\\d{5}', 'BIT100081 TSU100084')\n",
    "re.split(r'[1-9]\\d{5}', 'BIT100081 TSU100084', maxsplit=1)"
   ]
  },
  {
   "cell_type": "code",
   "execution_count": 17,
   "metadata": {},
   "outputs": [
    {
     "name": "stdout",
     "output_type": "stream",
     "text": [
      "100081\n",
      "100084\n"
     ]
    }
   ],
   "source": [
    "# re.finditer()\n",
    "for m in re.finditer(r'[1-9]\\d{5}', 'BIT100081 TSU100084'):\n",
    "    if m:\n",
    "        print(m.group(0))"
   ]
  },
  {
   "cell_type": "code",
   "execution_count": 19,
   "metadata": {},
   "outputs": [
    {
     "data": {
      "text/plain": [
       "'BIT:zipcode TSU:zipcode'"
      ]
     },
     "execution_count": 19,
     "metadata": {},
     "output_type": "execute_result"
    }
   ],
   "source": [
    "# re.sub()\n",
    "# re.sub(pattern, repl, string, count=0, flags=0)\n",
    "# repl:替换匹配字符串的字符串\n",
    "# count:匹配的最大替换次数\n",
    "import re\n",
    "re.sub(r'[1-9]\\d{5}',':zipcode', 'BIT100081 TSU100084')\n"
   ]
  },
  {
   "cell_type": "markdown",
   "metadata": {},
   "source": [
    "### re库的另一种等价用法\n",
    "#### 函数式用法：一次性操作\n",
    "#### rst = re.search(r'[1-9]\\d{5}', 'BIT 100081')\n",
    "#### 面向对象用法：编译后的多次操作\n",
    "#### pat  = re.compile(r'[1-9]\\d{5}')\n",
    "#### rst = pat.search('BIT 100081')"
   ]
  },
  {
   "cell_type": "markdown",
   "metadata": {},
   "source": [
    "### regex = re.compile(pattern, flags=0)\n",
    "### 将正则表达式的字符串形式编译成正则表达式对象"
   ]
  },
  {
   "cell_type": "markdown",
   "metadata": {},
   "source": [
    "## re库的match对象"
   ]
  },
  {
   "cell_type": "code",
   "execution_count": 21,
   "metadata": {},
   "outputs": [
    {
     "name": "stdout",
     "output_type": "stream",
     "text": [
      "100081\n"
     ]
    },
    {
     "data": {
      "text/plain": [
       "_sre.SRE_Match"
      ]
     },
     "execution_count": 21,
     "metadata": {},
     "output_type": "execute_result"
    }
   ],
   "source": [
    "import re\n",
    "match = re.search(r'[1-9]\\d{5}', 'BIT 100081') # 一个字符串的全部\n",
    "if match:\n",
    "    print(match.group(0))\n",
    "type(match)"
   ]
  },
  {
   "cell_type": "markdown",
   "metadata": {},
   "source": [
    "### Match对象的属性"
   ]
  },
  {
   "cell_type": "code",
   "execution_count": 27,
   "metadata": {
    "collapsed": true
   },
   "outputs": [],
   "source": [
    "## .string   待匹配的文本\n",
    "## .re       匹配时使用的pattern对象\n",
    "## .pos      正则表达式搜索文本的开始位置\n",
    "## .enpos    正则表达式搜索文本的结束位置"
   ]
  },
  {
   "cell_type": "markdown",
   "metadata": {},
   "source": [
    "### Match对象的方法"
   ]
  },
  {
   "cell_type": "code",
   "execution_count": 28,
   "metadata": {
    "collapsed": true
   },
   "outputs": [],
   "source": [
    "# .group() 获得匹配后的字符串\n",
    "# .start() 匹配字符串在原始字符串的开始位置\n",
    "# .end()   匹配字符串在原始字符串的结束位置\n",
    "# .span()  返回(.start().end())"
   ]
  },
  {
   "cell_type": "code",
   "execution_count": 23,
   "metadata": {},
   "outputs": [
    {
     "data": {
      "text/plain": [
       "'BIT 100081'"
      ]
     },
     "execution_count": 23,
     "metadata": {},
     "output_type": "execute_result"
    }
   ],
   "source": [
    "match.string"
   ]
  },
  {
   "cell_type": "code",
   "execution_count": 24,
   "metadata": {},
   "outputs": [
    {
     "data": {
      "text/plain": [
       "re.compile(r'[1-9]\\d{5}', re.UNICODE)"
      ]
     },
     "execution_count": 24,
     "metadata": {},
     "output_type": "execute_result"
    }
   ],
   "source": [
    "match.re"
   ]
  },
  {
   "cell_type": "code",
   "execution_count": 26,
   "metadata": {},
   "outputs": [
    {
     "data": {
      "text/plain": [
       "0"
      ]
     },
     "execution_count": 26,
     "metadata": {},
     "output_type": "execute_result"
    }
   ],
   "source": [
    "match.pos"
   ]
  },
  {
   "cell_type": "code",
   "execution_count": 29,
   "metadata": {},
   "outputs": [
    {
     "data": {
      "text/plain": [
       "10"
      ]
     },
     "execution_count": 29,
     "metadata": {},
     "output_type": "execute_result"
    }
   ],
   "source": [
    "match.endpos"
   ]
  },
  {
   "cell_type": "code",
   "execution_count": 30,
   "metadata": {},
   "outputs": [
    {
     "data": {
      "text/plain": [
       "'100081'"
      ]
     },
     "execution_count": 30,
     "metadata": {},
     "output_type": "execute_result"
    }
   ],
   "source": [
    "match.group(0)"
   ]
  },
  {
   "cell_type": "code",
   "execution_count": 33,
   "metadata": {},
   "outputs": [
    {
     "data": {
      "text/plain": [
       "4"
      ]
     },
     "execution_count": 33,
     "metadata": {},
     "output_type": "execute_result"
    }
   ],
   "source": [
    "match.start()"
   ]
  },
  {
   "cell_type": "code",
   "execution_count": 34,
   "metadata": {},
   "outputs": [
    {
     "data": {
      "text/plain": [
       "10"
      ]
     },
     "execution_count": 34,
     "metadata": {},
     "output_type": "execute_result"
    }
   ],
   "source": [
    "match.end()"
   ]
  },
  {
   "cell_type": "code",
   "execution_count": 35,
   "metadata": {},
   "outputs": [
    {
     "data": {
      "text/plain": [
       "(4, 10)"
      ]
     },
     "execution_count": 35,
     "metadata": {},
     "output_type": "execute_result"
    }
   ],
   "source": [
    "match.span()"
   ]
  },
  {
   "cell_type": "markdown",
   "metadata": {},
   "source": [
    "## re库的贪婪匹配和最小匹配\n",
    "###  re库默认采用贪婪匹配， 即输出匹配最长的子串"
   ]
  },
  {
   "cell_type": "code",
   "execution_count": 39,
   "metadata": {},
   "outputs": [
    {
     "data": {
      "text/plain": [
       "'PYANBNCNDN'"
      ]
     },
     "execution_count": 39,
     "metadata": {},
     "output_type": "execute_result"
    }
   ],
   "source": [
    "match = re.search(r'PY.*N', 'PYANBNCNDN')\n",
    "match.group(0)"
   ]
  },
  {
   "cell_type": "markdown",
   "metadata": {},
   "source": [
    "### 最小匹配"
   ]
  },
  {
   "cell_type": "code",
   "execution_count": 40,
   "metadata": {},
   "outputs": [
    {
     "data": {
      "text/plain": [
       "'PYAN'"
      ]
     },
     "execution_count": 40,
     "metadata": {},
     "output_type": "execute_result"
    }
   ],
   "source": [
    "match = re.search(r'PY.*?N', 'PYANBNCNDN')\n",
    "match.group(0)"
   ]
  },
  {
   "cell_type": "markdown",
   "metadata": {},
   "source": [
    "## 最小匹配操作符"
   ]
  },
  {
   "cell_type": "code",
   "execution_count": 41,
   "metadata": {
    "collapsed": true
   },
   "outputs": [],
   "source": [
    "# *? 前一个字符0次或无限次扩展 最小匹配\n",
    "# +? 前一个字符1次或无限次扩展 最小匹配\n",
    "# ?? 前一个字符0次或1次扩展 最小匹配\n",
    "# {m,n}? 扩展前一个字符m至n次  最小匹配"
   ]
  },
  {
   "cell_type": "markdown",
   "metadata": {},
   "source": []
  }
 ],
 "metadata": {
  "kernelspec": {
   "display_name": "Python 3",
   "language": "python",
   "name": "python3"
  },
  "language_info": {
   "codemirror_mode": {
    "name": "ipython",
    "version": 3
   },
   "file_extension": ".py",
   "mimetype": "text/x-python",
   "name": "python",
   "nbconvert_exporter": "python",
   "pygments_lexer": "ipython3",
   "version": "3.6.1"
  }
 },
 "nbformat": 4,
 "nbformat_minor": 2
}
