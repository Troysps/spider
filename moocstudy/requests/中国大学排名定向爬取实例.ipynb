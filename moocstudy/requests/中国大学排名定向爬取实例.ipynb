{
 "cells": [
  {
   "cell_type": "markdown",
   "metadata": {},
   "source": [
    "# 中国大学排名定向爬取实例"
   ]
  },
  {
   "cell_type": "markdown",
   "metadata": {},
   "source": [
    "## 功能描述：\n",
    "### 输入：大学排名URL链接\n",
    "### 输出：大学排名信息的屏幕输出\n",
    "### 技术路线：requests-bs4\n",
    "### 定向爬虫：仅对输入URL进行爬取 不扩展爬取"
   ]
  },
  {
   "cell_type": "markdown",
   "metadata": {},
   "source": [
    "## 程序的结构设计\n",
    "### 步骤一：从网络上获取大学排名网页内容 def gethtmltext()\n",
    "### 步骤二：提取网页内容中信息到合适的数据结构 def fillunivlist()\n",
    "### 步骤三：利用数据结构展示并输出结果 def printunivlist()"
   ]
  },
  {
   "cell_type": "code",
   "execution_count": 5,
   "metadata": {
    "collapsed": true
   },
   "outputs": [],
   "source": [
    "import requests\n",
    "from bs4 import BeautifulSoup\n",
    "import bs4"
   ]
  },
  {
   "cell_type": "code",
   "execution_count": 69,
   "metadata": {},
   "outputs": [],
   "source": [
    "def gethtmltext(url):\n",
    "    try:\n",
    "        r = requests.get(url)\n",
    "        r.raise_for_status()\n",
    "        r.encoding = r.apparent_encoding\n",
    "        return r.text\n",
    "    except:\n",
    "        return ''\n",
    "\n",
    "def fillunivlist(ulist, html):\n",
    "    soup = BeautifulSoup(html, 'html.parser')\n",
    "    for tr in soup.find('tbody').children:\n",
    "        if isinstance(tr, bs4.element.Tag):\n",
    "            tds = tr('td')\n",
    "            ulist.append([tds[0].contents[0], tds[1].string, tds[2].string, tds[3].string])\n",
    "    \n",
    "    \n",
    "def printunivlist(ulist, num):\n",
    "    print('{0:^6}\\t{1:^10}\\t{2:^10}\\t{3:^6}'.format('rank', 'name', 'address', 'mark', chr(12288)))\n",
    "    for i in range(num):\n",
    "        u = ulist[i]\n",
    "        print('{0:^6}\\t{1:^10}\\t{2:^10}\\t{3:^6}'.format(u[0], u[1], u[2], u[3], chr(12288)))\n",
    "\n",
    "def main():\n",
    "    unifo = []\n",
    "    url = 'http://zuihaodaxue.com/zuihaodaxuepaiming2017.html'\n",
    "    html = gethtmltext(url)\n",
    "    fillunivlist(unifo, html)\n",
    "    printunivlist(unifo, 20)\n",
    "    "
   ]
  },
  {
   "cell_type": "code",
   "execution_count": 70,
   "metadata": {},
   "outputs": [
    {
     "name": "stdout",
     "output_type": "stream",
     "text": [
      " rank \t   name   \t address  \t mark \n",
      "  1   \t   清华大学   \t    北京    \t94.0  \n",
      "  2   \t   北京大学   \t    北京    \t81.2  \n",
      "  3   \t   浙江大学   \t    浙江    \t77.8  \n",
      "  4   \t  上海交通大学  \t    上海    \t77.5  \n",
      "  5   \t   复旦大学   \t    上海    \t71.1  \n",
      "  6   \t 中国科学技术大学 \t    安徽    \t65.9  \n",
      "  7   \t   南京大学   \t    江苏    \t65.3  \n",
      "  8   \t  华中科技大学  \t    湖北    \t63.0  \n",
      "  9   \t   中山大学   \t    广东    \t62.7  \n",
      "  10  \t 哈尔滨工业大学  \t   黑龙江    \t61.6  \n",
      "  11  \t   同济大学   \t    上海    \t60.8  \n",
      "  12  \t   东南大学   \t    江苏    \t59.8  \n",
      "  13  \t   武汉大学   \t    湖北    \t58.4  \n",
      "  14  \t 北京航空航天大学 \t    北京    \t58.3  \n",
      "  15  \t   南开大学   \t    天津    \t58.2  \n",
      "  16  \t   四川大学   \t    四川    \t57.4  \n",
      "  16  \t  西安交通大学  \t    陕西    \t57.4  \n",
      "  18  \t   天津大学   \t    天津    \t56.2  \n",
      "  19  \t  华南理工大学  \t    广东    \t56.1  \n",
      "  20  \t  北京师范大学  \t    北京    \t55.1  \n"
     ]
    }
   ],
   "source": [
    "main()"
   ]
  },
  {
   "cell_type": "markdown",
   "metadata": {},
   "source": [
    "## 代码优化"
   ]
  },
  {
   "cell_type": "code",
   "execution_count": null,
   "metadata": {
    "collapsed": true
   },
   "outputs": [],
   "source": [
    "\n"
   ]
  }
 ],
 "metadata": {
  "kernelspec": {
   "display_name": "Python 3",
   "language": "python",
   "name": "python3"
  },
  "language_info": {
   "codemirror_mode": {
    "name": "ipython",
    "version": 3
   },
   "file_extension": ".py",
   "mimetype": "text/x-python",
   "name": "python",
   "nbconvert_exporter": "python",
   "pygments_lexer": "ipython3",
   "version": "3.6.1"
  }
 },
 "nbformat": 4,
 "nbformat_minor": 2
}
