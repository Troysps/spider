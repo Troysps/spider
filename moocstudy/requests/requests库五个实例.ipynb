{
 "cells": [
  {
   "cell_type": "markdown",
   "metadata": {},
   "source": [
    "# requests 网络爬虫5个实例"
   ]
  },
  {
   "cell_type": "markdown",
   "metadata": {},
   "source": [
    "## 实例一 京东商品页面爬取"
   ]
  },
  {
   "cell_type": "code",
   "execution_count": 3,
   "metadata": {},
   "outputs": [
    {
     "name": "stdout",
     "output_type": "stream",
     "text": [
      "<!-- shouji -->\n",
      "<!DOCTYPE HTML>\n",
      "<html lang=\"zh-CN\">\n",
      "<head>\n",
      "    <meta http-equiv=\"Content-Type\" content=\"text/html; charset=gbk\" />\n",
      "    <title>【华为荣耀8】荣耀8 4GB+64GB 全网通4G手机 魅海蓝【行情 报价 价格 评测】-京东</title>\n",
      "    <meta name=\"keywords\" content=\"HUAWEI荣耀8,华为荣耀8,华为荣耀8报价,HUAWEI荣耀8报价\"/>\n",
      "    <meta name=\"description\" content=\"【华为荣耀8】京东JD.COM提供华为荣耀8正品行货，并包括HUAWEI荣耀8网购指南，以及华为荣耀8图片、荣耀8参数、荣耀8评论、荣耀8心得、荣耀8技巧等信息，网购华为荣耀8上京东,放心又轻松\" />\n",
      "    <meta name=\"format-detection\" content=\"telephone=no\">\n",
      "    <meta http-equiv=\"mobile-a\n"
     ]
    }
   ],
   "source": [
    "import requests\n",
    "def gethtml(url):\n",
    "    try:\n",
    "        r = requests.get(url)\n",
    "        r.raise_for_status()\n",
    "        r.encoding = r.apparent_encoding\n",
    "        print(r.text[:500])\n",
    "    except:\n",
    "        print('爬取失败')\n",
    "\n",
    "if __name__ == '__main__':\n",
    "    gethtml('https://item.jd.com/2967929.html')"
   ]
  },
  {
   "cell_type": "markdown",
   "metadata": {},
   "source": [
    "## 实例二 亚马逊商品页面的爬取"
   ]
  },
  {
   "cell_type": "code",
   "execution_count": 27,
   "metadata": {},
   "outputs": [
    {
     "data": {
      "text/plain": [
       "503"
      ]
     },
     "execution_count": 27,
     "metadata": {},
     "output_type": "execute_result"
    }
   ],
   "source": [
    "import requests\n",
    "r = requests.get('https://www.amazon.com')\n",
    "r.status_code"
   ]
  },
  {
   "cell_type": "code",
   "execution_count": 28,
   "metadata": {},
   "outputs": [
    {
     "data": {
      "text/plain": [
       "'ISO-8859-1'"
      ]
     },
     "execution_count": 28,
     "metadata": {},
     "output_type": "execute_result"
    }
   ],
   "source": [
    "r.encoding"
   ]
  },
  {
   "cell_type": "code",
   "execution_count": 29,
   "metadata": {},
   "outputs": [
    {
     "data": {
      "text/plain": [
       "'ascii'"
      ]
     },
     "execution_count": 29,
     "metadata": {},
     "output_type": "execute_result"
    }
   ],
   "source": [
    "r.apparent_encoding"
   ]
  },
  {
   "cell_type": "code",
   "execution_count": 30,
   "metadata": {},
   "outputs": [
    {
     "data": {
      "text/plain": [
       "{'User-Agent': 'python-requests/2.18.4', 'Accept-Encoding': 'gzip, deflate', 'Accept': '*/*', 'Connection': 'keep-alive'}"
      ]
     },
     "execution_count": 30,
     "metadata": {},
     "output_type": "execute_result"
    }
   ],
   "source": [
    "r.encoding = r.apparent_encoding\n",
    "r.text\n",
    "r.request.headers\n",
    "# user-agent 错误"
   ]
  },
  {
   "cell_type": "code",
   "execution_count": 44,
   "metadata": {},
   "outputs": [
    {
     "data": {
      "text/plain": [
       "'<!doctype html><html class=\"a-no-js\" data-19ax5a9jf=\"dingo\"><!-- sp:feature:head-start -->\\n<head><script>var aPageStart = (new Date()).getTime();</script><meta charset=\"utf-8\">\\n<script type=\\'text/javascript\\'>var ue_t0=ue_t0||+new Date();</script><!-- sp:feature:cs-optimization -->\\n<meta http-equiv=\\'x-dns-prefetch-control\\' content=\\'on\\'><link rel=\\'dns-prefetch\\' href=\\'//images-na.ssl-images-amazon.com\\'><link rel=\\'dns-prefetch\\' href=\\'//m.media-amazon.com\\'><link rel=\\'dns-prefetch\\' href=\\'//completion.amazon.com\\'><script type=\\'text/javascript\\'>\\n\\nvar ue_csm = window,\\n    ue_hob = +new Date();\\n(function(d){var e=d.ue=d.ue||{},f=Date.now||function(){return+new Date};e.d=function(b){return f()-(b?0:d.ue_t0)};e.stub=function(b,a){if(!b[a]){var c=[];b[a]=function(){c.push([c.slice.call(arguments),e.d(),d.ue_id])};b[a].replay=function(b){for(var a;a=c.shift();)b(a[0],a[1],a[2])};b[a].isStub=1}};e.exec=function(b,a){return function(){if(1==window.ueinit)try{return b.apply(this,arguments)}catch(c){ueLogError(c,{attribution:a||\"undefined\",logLevel:\"WARN\"})}}}})(ue_csm);\\n\\n\\n    var ue_err_chan = \\'jserr-rw\\';\\n(function(d,e){function h(f,b){if(!(a.ec>a.mxe)&&f){a.ter.push(f);b=b||{};var c=f.logLevel||b.logLevel;c&&c!==k&&c!==m&&c!==n&&c!==p||a.ec++;c&&c!=k||a.ecf++;b.pageURL=\"\"+(e.location?e.location.href:\"\");b.logLevel=c;b.attribution=f.attribution||b.attribution;a.erl.push({ex:f,info:b})}}function l(a,b,c,e,g){d.ueLogError({m:a,f:b,l:c,c:\"\"+e,err:g,fromOnError:1,args:arguments},g?{attribution:g.'"
      ]
     },
     "execution_count": 44,
     "metadata": {},
     "output_type": "execute_result"
    }
   ],
   "source": [
    "# 重新定义user-agent\n",
    "kv = {'User-Agent': 'Mozilla/5.0'}\n",
    "r = requests.get('https://www.amazon.com', headers=kv)\n",
    "r.status_code\n",
    "r.encoding = r.apparent_encoding\n",
    "r.text[:1500]"
   ]
  },
  {
   "cell_type": "code",
   "execution_count": 43,
   "metadata": {},
   "outputs": [
    {
     "name": "stdout",
     "output_type": "stream",
     "text": [
      "<!doctype html><html class=\"a-no-js\" data-19ax5a9jf=\"dingo\"><!-- sp:feature:head-start -->\n",
      "<head><script>var aPageStart = (new Date()).getTime();</script><meta charset=\"utf-8\">\n",
      "<script type='text/javascript'>var ue_t0=ue_t0||+new Date();</script><!-- sp:feature:cs-optimization -->\n",
      "<meta http-equiv='x-dns-prefetch-control' content='on'><link rel='dns-prefetch' href='//images-na.ssl-images-amazon.com'><link rel='dns-prefetch' href='//m.media-amazon.com'><link rel='dns-prefetch' href='//completion.amazon.com'><script type='text/javascript'>\n",
      "\n",
      "var ue_csm = window,\n",
      "    ue_hob = +new Date();\n",
      "(function(d){var e=d.ue=d.ue||{},f=Date.now||function(){return+new Date};e.d=function(b){return f()-(b?0:d.ue_t0)};e.stub=function(b,a){if(!b[a]){var c=[];b[a]=function(){c.push([c.slice.call(arguments),e.d(),d.ue_id])};b[a].replay=function(b){for(var a;a=c.shift();)b(a[0],a[1],a[2])};b[a].isStub=1}};e.exec=function(b,a){return function(){if(1==window.ueinit)try{return b.apply(this,arguments)}catch(c){ueLogError(c,{attribution:a||\"undefined\",logLevel:\"WARN\"})}}}})(ue_csm);\n",
      "\n",
      "\n",
      "    var ue_err_chan = 'jserr-rw';\n",
      "(function(d,e){function h(f,b){if(!(a.ec>a.mxe)&&f){a.ter.push(f);b=b||{};var c=f.logLevel||b.logLevel;c&&c!==k&&c!==m&&c!==n&&c!==p||a.ec++;c&&c!=k||a.ecf++;b.pageURL=\"\"+(e.location?e.location.href:\"\");b.logLevel=c;b.attribution=f.attribution||b.attribution;a.erl.push({ex:f,info:b})}}function l(a,b,c,e,g){d.ueLogError({m:a,f:b,l:c,c:\"\"+e,err:g,fromOnError:1,args:arguments},g?{attribution:g.\n"
     ]
    }
   ],
   "source": [
    "# 全代码\n",
    "import requests\n",
    "def getamazon(url):\n",
    "    try:\n",
    "        kv = {'User-Agent': 'Mozilla/5.0'}\n",
    "        r = requests.get(url, headers=kv)\n",
    "        r.raise_for_status()\n",
    "        r.encoding = r.apparent_encoding\n",
    "        print(r.text[:1500])\n",
    "    except:\n",
    "        print('爬取失败')\n",
    "        \n",
    "if __name__ == '__main__':\n",
    "    getamazon('https://www.amazon.com')\n",
    "        "
   ]
  },
  {
   "cell_type": "markdown",
   "metadata": {},
   "source": [
    "## 实例三 百度360搜索关键词提交\n",
    "### 百度关键词接口 http://www.baidu.com/s?wd=keyword\n",
    "### 360关键词接口 http://www.so.com/s?q=keyword"
   ]
  },
  {
   "cell_type": "code",
   "execution_count": 48,
   "metadata": {},
   "outputs": [
    {
     "data": {
      "text/plain": [
       "'http://www.baidu.com/s?wd=Python'"
      ]
     },
     "execution_count": 48,
     "metadata": {},
     "output_type": "execute_result"
    }
   ],
   "source": [
    "# 构造url\n",
    "import requests\n",
    "kv = {'wd': 'Python'}\n",
    "r = requests.get('http://www.baidu.com/s', params=kv)\n",
    "r.status_code\n",
    "r.request.url"
   ]
  },
  {
   "cell_type": "code",
   "execution_count": 49,
   "metadata": {},
   "outputs": [
    {
     "data": {
      "text/plain": [
       "327015"
      ]
     },
     "execution_count": 49,
     "metadata": {},
     "output_type": "execute_result"
    }
   ],
   "source": [
    "len(r.text)"
   ]
  },
  {
   "cell_type": "code",
   "execution_count": 53,
   "metadata": {},
   "outputs": [
    {
     "name": "stdout",
     "output_type": "stream",
     "text": [
      "http://www.baidu.com/s?wd=Python\n",
      "326752\n"
     ]
    }
   ],
   "source": [
    "# 全代码\n",
    "import requests\n",
    "def getsearch(url):\n",
    "    try:\n",
    "        kv = {'wd': 'Python'}\n",
    "        r = requests.get(url, params=kv)\n",
    "        print(r.request.url)\n",
    "        r.raise_for_status()\n",
    "        r.encoding = r.apparent_encoding\n",
    "        print(len(r.text))\n",
    "    except:\n",
    "        print('爬取失败')\n",
    "\n",
    "if __name__ == '__main__':\n",
    "    getsearch('http://www.baidu.com/s')"
   ]
  },
  {
   "cell_type": "markdown",
   "metadata": {},
   "source": [
    "## 实例四 网络图片爬取和存储"
   ]
  },
  {
   "cell_type": "code",
   "execution_count": 62,
   "metadata": {
    "collapsed": true
   },
   "outputs": [],
   "source": [
    "import requests\n",
    "r = requests.get('http://image.nationalgeographic.com.cn/2017/0907/20170907045614291.jpg')\n",
    "r.status_code\n",
    "path = 'D:/SQL/abc.jpg'\n",
    "with open(path, 'wb') as f:\n",
    "    f.write(r.content)\n",
    "    f.close()"
   ]
  },
  {
   "cell_type": "code",
   "execution_count": 63,
   "metadata": {
    "collapsed": true
   },
   "outputs": [],
   "source": [
    "# 全代码\n",
    "import requests\n",
    "import os\n",
    "\n",
    "def getpicture(url):\n",
    "    root = 'D:/pic/' # 定义根目录\n",
    "    path = root + url.split('/')[-1]\n",
    "    try:\n",
    "        if not os.path.exists(root): # 检查根目录是否存在\n",
    "            os.mkdir(root)          # 不存在 建立一个\n",
    "        if not os.path.exists(path): # 检查根目录下 文件是否存在 不存在建立文件\n",
    "            r = requests.get(url)\n",
    "            with open(path, 'wb') as f:\n",
    "                f.write(r.content)\n",
    "                f.close()\n",
    "        else:\n",
    "            print('文件已存在')\n",
    "    except:\n",
    "        print('爬取失败')\n",
    "        \n",
    "if __name__ == '__main'__:\n",
    "    getpicture('http://image.nationalgeographic.com.cn/2017/0907/20170907045614291.jpg')\n",
    "        "
   ]
  },
  {
   "cell_type": "markdown",
   "metadata": {},
   "source": [
    "## 实例五 IP归属地的自动查询"
   ]
  },
  {
   "cell_type": "code",
   "execution_count": 69,
   "metadata": {},
   "outputs": [
    {
     "name": "stdout",
     "output_type": "stream",
     "text": [
      "<!DOCTYPE HTML PUBLIC \"-//W3C//DTD HTML 4.0 Transitional//EN\">\r\n",
      "<HTML>\r\n",
      "<HEAD>\r\n",
      "<meta http-equiv=\"Content-Type\" content=\"text/html; charset=gb2312\">\r\n",
      "<TITLE>IP地址查询--手机号码查询归属地 | 邮政编码查询 | 长途电话区号 | 身份证号码验证在线查询网</TITLE>\r\n",
      "<META NAME=\"Generator\" CONTENT=\"ip,IP查询,IP地址查询,ip138,网址之家\">\r\n",
      "<META NAME=\"Author\" CONTENT=\"ip138,网址之家\">\r\n",
      "<META NAME=\"Keywords\" CONTENT=\"ip,IP查询,IP地址查询,ip138,网址之家\">\r\n",
      "<META NAME=\"Description\" CONTENT=\"ip,IP查询,IP地址查询,ip138,网址之家\">\r\n",
      "<SCRIPT LANGUAGE=\"JavaScript\">\r\n",
      "<!--\r\n",
      "function checkIP()\r\n",
      "{\r\n",
      "\tvar ipArray,ip,j;\r\n",
      "\tip = document.ipform.ip.value;\r\n",
      "\r\n",
      "\tif (ip.indexOf(\" \")>=0){\r\n",
      "\t\tip = ip.replace(/ /g,\"\");\r\n",
      "\t\tdocument.ipform.ip.value = ip;\r\n",
      "\t}\r\n",
      "\tif (ip.toLowerCase().indexOf(\"http://\")==0){\r\n",
      "\t\tip = ip.slice(7);\r\n",
      "\t\tdocument.ipform.ip.value = ip;\r\n",
      "\t}\r\n",
      "\tif (ip.toLowerCase().indexOf(\"https://\")==0){\r\n",
      "\t\tip = ip.slice(8);\r\n",
      "\t\tdocument.ipform.ip.value = ip;\r\n",
      "\t}\r\n",
      "\tif (ip.slice(ip.length-1)==\"/\"){\r\n",
      "\t\tip = ip.slice(0,ip.length-1);\r\n",
      "\t\tdocument.ipform.ip.value = ip;\r\n",
      "\t}\r\n",
      "\r\n",
      "\tif(/[A-Za-z_-]/.test(ip)){\r\n",
      "\t\tif(!/^([\\w-]+\\.)+((ac)|(ad)|(ae)|(af)|(ag)|(ai)|(al)|(am)|(an)|(ao)|(aq)|(ar)|(as)|(asia)|(at)|(au)|(aw)|(az)|(ba)|(band)|(bb)|(bd)|(be)|(bf)|(bg)|(bh)|(bi)|(bid)|(biz)|(bj)|(bm)|(bn)|(bo)|(br)|(bs)|(bt)|(bv)|(bw)|(by)|(bz)|(ca)|(cc)|(cd)|(cf)|(cg)|(ch)|(ci)|(ck)|(cl)|(click)|(club)|(cm)|(cn)|(co)|(co\\.in)|(co\\.nz)|(co\\.uk)|(com)|(com\\.ag)|(com\\.br)|(com\\.bz)|(com\\.cn)|(com\\.co)|(com\\.es)|(com\\.hk)|(com\\.mx)|(com\\.tw)|(cr)|(cu)|(cv)|(cx)|(cy)|(cz)|(date)|(de)|(design)|(dj)|(dk)|(dm)|(do)|(dz)|(ec)|(ee)|(eg)|(engineer)|(er)|(es)|(et)|(eu)|(fi)|(firm\\.in)|(fj)|(fk)|(fm)|(fo)|(fr)|(ga)|(gd)|(ge)|(gen\\.in)|(gf)|(gg)|(gh)|(gi)|(gift)|(gl)|(gm)|(gn)|(gov\\.cn)|(gp)|(gq)|(gr)|(gs)|(gt)|(gu)|(gw)|(gy)|(help)|(hk)|(hm)|(hn)|(hr)|(ht)|(hu)|(id)|(idv\\.tw)|(ie)|(il)|(im)|(in)|(ind\\.in)|(info)|(io)|(iq)|(ir)|(is)|(it)|(je)|(jm)|(jo)|(jobs)|(jp)|(ke)|(kg)|(kh)|(ki)|(km)|(kn)|(kr)|(kw)|(ky)|(kz)|(la)|(lawyer)|(lb)|(lc)|(li)|(link)|(live)|(lk)|(lr)|(ls)|(lt)|(ltd\\.uk)|(lu)|(lv)|(ly)|(ma)|(market)|(mc)|(md)|(me)|(me\\.uk)|(mg)|(mh)|(mk)|(ml)|(mm)|(mn)|(mo)|(mobi)|(mp)|(mq)|(mr)|(ms)|(mt)|(mu)|(mv)|(mw)|(mx)|(my)|(mz)|(na)|(name)|(nc)|(ne)|(net)|(net\\.ag)|(net\\.br)|(net\\.bz)|(net\\.cn)|(net\\.co)|(net\\.in)|(net\\.nz)|(news)|(nf)|(ng)|(ni)|(nl)|(no)|(nom\\.co)|(nom\\.es)|(np)|(nr)|(nu)|(nz)|(om)|(online)|(org)|(org\\.ag)|(org\\.cn)|(org\\.es)|(org\\.in)|(org\\.nz)|(org\\.tw)|(org\\.uk)|(pa)|(party)|(pe)|(pf)|(pg)|(ph)|(photo)|(pics)|(pk)|(pl)|(plc\\.uk)|(pm)|(pn)|(pr)|(pro)|(press)|(ps)|(pt)|(pub)|(pw)|(py)|(qa)|(re)|(ren)|(ro)|(rocks)|(ru)|(rw)|(sa)|(sb)|(sc)|(science)|(sd)|(se)|(sg)|(sh)|(si)|(site)|(sk)|(sl)|(sm)|(sn)|(so)|(social)|(software)|(space)|(sr)|(st)|(studio)|(sv)|(sy)|(sz)|(tc)|(td)|(tech)|(tf)|(tg)|(th)|(tj)|(tk)|(tl)|(tm)|(tn)|(to)|(top)|(tr)|(trade)|(travel)|(tt)|(tv)|(tw)|(tz)|(ua)|(ug)|(uk)|(us)|(uy)|(uz)|(va)|(vc)|(ve)|(vg)|(vi)|(video)|(vn)|(vu)|(wang)|(website)|(wf)|(wiki)|(win)|(ws)|(xin)|(xyz)|(ye)|(yt)|(yu)|(za)|(zm)|(zw))$/i.test(ip)){\r\n",
      "\t\t\talert(\"不是正确的域名\");\r\n",
      "\t\t\tdocument.ipform.ip.focus();\r\n",
      "\t\t\treturn false;\r\n",
      "\t\t}\r\n",
      "\t}\r\n",
      "\telse{\r\n",
      "\t\tipArray = ip.split(\".\");\r\n",
      "\t\tj = ipArray.length\r\n",
      "\t\tif(j!=4)\r\n",
      "\t\t{\r\n",
      "\t\t\talert(\"不是正确的IP\");\r\n",
      "\t\t\tdocument.ipform.ip.focus();\r\n",
      "\t\t\treturn false;\r\n",
      "\t\t}\r\n",
      "\r\n",
      "\t\tfor(var i=0;i<4;i++)\r\n",
      "\t\t{\r\n",
      "\t\t\tif(ipArray[i].length==0 || ipArray[i]>255)\r\n",
      "\t\t\t{\r\n",
      "\t\t\t\talert(\"不是正确的IP\");\r\n",
      "\t\t\t\tdocument.ipform.ip.focus();\r\n",
      "\t\t\t\treturn false;\r\n",
      "\t\t\t}\r\n",
      "\t\t}\r\n",
      "\t}\r\n",
      "}\r\n",
      "function WeatherSearch(){\r\n",
      "\tdocument.forms[\"weathersearch\"].submit()\r\n",
      "}\r\n",
      "function Area2Zip(){\r\n",
      "\tdocument.forms[\"area2zip\"].submit()\r\n",
      "}\r\n",
      "//-->\r\n",
      "</SCRIPT>\r\n",
      "\r\n",
      "<STYLE type=\"text/css\">\r\n",
      "p,td {font-size:16px}\r\n",
      "A:link {\r\n",
      "\tCOLOR: #1c5f82; TEXT-DECORATION: none\r\n",
      "}\r\n",
      "A:visited {\r\n",
      "\tCOLOR: #1c5f82; TEXT-DECORATION: none\r\n",
      "}\r\n",
      "A:hover {\r\n",
      "\tCOLOR: #cc5533; TEXT-DECORATION: underline\r\n",
      "}\r\n",
      "\r\n",
      "A.green:link {COLOR: #008000;}\r\n",
      "A.green:visited {COLOR: #008000;}\r\n",
      "A.green:hover {COLOR: #008000;}\r\n",
      "\r\n",
      "BODY {\r\n",
      "\tSCROLLBAR-HIGHLIGHT-COLOR: #f7f7f7; SCROLLBAR-SHADOW-COLOR: #f7f7f7; SCROLLBAR-ARROW-COLOR: #EFF1F3; SCROLLBAR-TRACK-COLOR: #EFF1F3; SCROLLBAR-BASE-COLOR: #f7f7f7\r\n",
      "}\r\n",
      ".ul1{\r\n",
      "\twidth:480px;\r\n",
      "\ttext-align:left;\r\n",
      "}\r\n",
      "li{\r\n",
      "\tcolor:green;\r\n",
      "\t}\r\n",
      "</STYLE>\r\n",
      "</HEAD>\r\n",
      "<BODY>\r\n",
      "<div align=\"center\"><center>\r\n",
      "<table cellSpacing=\"0\" cellPadding=\"0\" width=\"760\" align=\"center\" border=\"0\">\r\n",
      "\t<tr vAlign=\"bottom\">\r\n",
      "\t\t<td align=\"left\"><a href=\"http://www.ip138.com\"><b>www.ip138.com 查询网</b></a></td>\r\n",
      "\t\t<td align=\"middle\"></td>\r\n",
      "\t\t<td align=\"right\"><strong>手机上网查询:wap.ip138.com</strong></td>\r\n",
      "\t</tr>\r\n",
      "\t<tr vAlign=\"top\" align=\"left\">\r\n",
      "\t\t<td colSpan=\"3\"><hr width=\"100%\" SIZE=\"1\">\r\n",
      "\t\t</td>\r\n",
      "\t</tr>\r\n",
      "</table>\r\n",
      "</center></div>\r\n",
      "\r\n",
      "<div align=\"center\"><center>\r\n",
      "<table height=\"22\" cellSpacing=\"0\" cellPadding=\"0\" width=\"710\" border=\"0\">\r\n",
      "\t<tr align=\"middle\">\r\n",
      "\t\t<td width=\"179\"><b><font color=\"#008000\">→</font></b><a href=\"http://www.ip138.com/ips1388.asp\" target=\"_blank\">ip地址所在地查询</a></td>\r\n",
      "\t\t<td width=\"177\"><b><font color=\"#008000\">→</font></b><a href=\"http://qq.ip138.com/train/\" target=\"_blank\">国内列车时刻表查询</a></td>\r\n",
      "\t\t<td width=\"177\"><b><font color=\"#008000\">→</font></b><a href=\"http://www.ip138.com/sj/\" target=\"_blank\">手机号码所在地区查询</a></td>\r\n",
      "\t\t<td width=\"177\"><b><font color=\"#008000\">→</font></b><a href=\"http://qq.ip138.com/weather/\" target=\"_blank\">天气预报-预报五天</a></td>\r\n",
      "\t</tr>\r\n",
      "\t<tr align=\"middle\">\r\n",
      "\t\t<td><b><font color=\"#008000\">→</font></b><a href=\"http://www.ip138.com/gb.htm\" target=\"_blank\">汉字简体繁体转换</a></td>\r\n",
      "\t\t<td><b><font color=\"#008000\">→</font></b><a href=\"http://www.ip138.com/jb.htm\" target=\"_blank\">国内国际机票查询</a></td>\r\n",
      "\t\t<td><b><font color=\"#008000\">→</font></b><a href=\"http://10.ip138.com/\" target=\"_blank\">品牌排行榜</a></td>\r\n",
      "\t\t<td><b><font color=\"#008000\">→</font></b><a href=\"http://qq.ip138.com/wb/wb.asp\" target=\"_blank\">五笔编码拼音查询</a></td>\r\n",
      "\t</tr>\r\n",
      "\t<tr align=\"middle\">\r\n",
      "\t\t<td><b><font color=\"#008000\">→</font></b><a href=\"http://qq.ip138.com/tran.htm\" target=\"_blank\">在线翻译</a></td>\r\n",
      "\t\t<td><b><font color=\"#008000\">→</font></b><a href=\"http://qq.ip138.com/hl.asp\" target=\"_blank\">货币汇率兑换</a></td>\r\n",
      "\t\t<td><b><font color=\"#008000\">→</font></b><a href=\"http://qq.ip138.com/day/\" target=\"_blank\">阴阳转换万年历</a></td>\r\n",
      "\t\t<td><b><font color=\"#008000\">→</font></b><a href=\"http://www.ip138.com/post/\" target=\"_blank\">邮编查询区号查询</a></td>\r\n",
      "\t</tr>\r\n",
      "\t<tr align=\"middle\">\r\n",
      "\t\t<td><a href=\"http://qq.ip138.com/idsearch/\" target=\"_blank\">身份证号码查询验证</a></td>\r\n",
      "\t\t<td><a href=\"http://www.ip138.com/ems/\" target=\"_blank\">快递查询</a> <a href=\"http://www.ip138.com/ems/\" target=\"_blank\">EMS查询</a></td>\r\n",
      "\t\t<td><a href=\"http://www.ip138.com/carlist.htm\" target=\"_blank\">全国各地车牌查询表</a></td>\r\n",
      "\t\t<td><a href=\"http://www.ip138.com/weizhang.htm\" target=\"_blank\">车辆交通违章查询</a></td>\r\n",
      "\t</tr>\r\n",
      "</table>\r\n",
      "</center></div>\r\n",
      "<form method=\"post\" action=\"http://qq.ip138.com/weather/search.asp\" name=\"weathersearch\" target=\"_blank\">\r\n",
      "<input type=\"hidden\" name=\"k\" value=\"\" />\r\n",
      "</form>\r\n",
      "<form method=\"post\" action=\"http://www.ip138.com/post/search.asp\" name=\"area2zip\" target=\"_blank\">\r\n",
      "<input type=\"hidden\" name=\"area\" value=\"\" />\r\n",
      "<input type=\"hidden\" name=\"action\" value=\"area2zip\" />\r\n",
      "</form>\r\n",
      "<table width=\"80%\"  border=\"0\" align=\"center\" cellpadding=\"0\" cellspacing=\"0\">\r\n",
      "\t<tr>\r\n",
      "\t\t<td align=\"center\"><h3>ip138.com IP查询(搜索IP地址的地理位置)</h3></td>\r\n",
      "\t</tr>\r\n",
      "\t<tr>\r\n",
      "\t\t<td align=\"center\"><h1>您查询的IP:43.250.200.45</h1></td>\r\n",
      "\t</tr>\r\n",
      "\t<tr>\r\n",
      "\t\t<td align=\"center\"><ul class=\"ul1\"><li>本站数据：湖南省长沙市  联通</li><li>参考数据1：湖南  联通</li><li>参考数据2：APNIC</li></ul></td>\r\n",
      "\t</tr>\r\n",
      "\t<tr>\r\n",
      "\t\t<td align=\"center\"><a href=\"/idc/\" target=\"_blank\"><b><font color=\"red\">idc公司大全</font></b></a> | <a href=\"http://user.ip138.com/ip/\" target=\"_blank\"><b>ip查询接口</b></a></td>\r\n",
      "\t</tr>\r\n",
      "\t<tr>\r\n",
      "\t\t<td align=\"center\">如果您发现查询结果不详细或不正确，请使用<a href=\"ip_add.asp?ip=43.250.200.45\"><font color=\"#006600\"><b>IP数据库自助添加</b></font></a>功能进行修正<br/><br/>\r\n",
      "<p align=\"center\">\r\n",
      "<div align=\"center\">\r\n",
      "\r\n",
      "<script type=\"text/javascript\">\r\n",
      "var cpro_id = \"u2962614\";\r\n",
      "</script>\r\n",
      "<script type=\"text/javascript\" src=\"http://cpro.baidustatic.com/cpro/ui/c.js\"></script>\r\n",
      "\r\n",
      "</div>\r\n",
      "</p>\r\n",
      "<br/></td>\r\n",
      "\t</tr>\r\n",
      "\t<form method=\"get\" action=\"ips1388.asp\" name=\"ipform\" onsubmit=\"return checkIP();\">\r\n",
      "\t<tr>\r\n",
      "\t\t<td align=\"center\">IP地址或者域名：<input type=\"text\" name=\"ip\" size=\"16\"> <input type=\"submit\" value=\"查询\"><input type=\"hidden\" name=\"action\" value=\"2\"></td>\r\n",
      "\t</tr><br>\r\n",
      "<br>\r\n",
      "\t</form>\r\n",
      "</table>\r\n",
      "<p align=\"center\">如发现小部分ip查询结果不正确请到官方网站<a\r\n",
      "href=\"http://www.apnic.net\" rel=\"nofollow\" target=\"_blank\">http://www.apnic.net</a>查询,以apnic为准</p>\r\n",
      "<p align=\"center\">\r\n",
      "<div align=\"center\">\r\n",
      "\r\n",
      "<script type=\"text/javascript\">\r\n",
      "var cpro_id = \"u2962622\";\r\n",
      "</script>\r\n",
      "<script type=\"text/javascript\" src=\"http://cpro.baidustatic.com/cpro/ui/c.js\"></script>\r\n",
      "\r\n",
      "\r\n",
      "</div>\r\n",
      "</p>\r\n",
      "<p align=\"center\"></a>联系我们.请<a href=\"mail.htm\" rel=\"nofollow\" target=\"_blank\">发email</a>.或给<a\r\n",
      "href=\"http://qq.3533.com:8080/book.asp?siteid=7\" rel=\"nofollow\" target=\"_blank\">我们留言</a>谢谢!</p>\r\n",
      "<p align=\"center\">沪ICP备10013467号-1号</p>\r\n",
      "<div style=\"display:none\"><script type=\"text/javascript\" src=\"http://tajs.qq.com/stats?sId=36241650\" charset=\"UTF-8\"></script></div>\r\n",
      "</body>\r\n",
      "</html>\n"
     ]
    }
   ],
   "source": [
    "# 全代码\n",
    "import requests\n",
    "def getip(url):\n",
    "    try:\n",
    "        r = requests.get(url + '43.250.200.45')\n",
    "        r.raise_for_status()\n",
    "        r.encoding = r.apparent_encoding\n",
    "        print(r.text)\n",
    "    except:\n",
    "        print('爬取失败')\n",
    "getip('http://www.ip138.com/ips138.asp?ip=')"
   ]
  },
  {
   "cell_type": "code",
   "execution_count": 2,
   "metadata": {},
   "outputs": [
    {
     "ename": "FileNotFoundError",
     "evalue": "[WinError 3] 系统找不到指定的路径。: 'E:/SpiderData/images/jiepai/'",
     "output_type": "error",
     "traceback": [
      "\u001b[1;31m---------------------------------------------------------------------------\u001b[0m",
      "\u001b[1;31mFileNotFoundError\u001b[0m                         Traceback (most recent call last)",
      "\u001b[1;32m<ipython-input-2-b5c2f4f76983>\u001b[0m in \u001b[0;36m<module>\u001b[1;34m()\u001b[0m\n\u001b[0;32m      3\u001b[0m \u001b[1;33m\u001b[0m\u001b[0m\n\u001b[0;32m      4\u001b[0m \u001b[1;32mif\u001b[0m \u001b[1;32mnot\u001b[0m \u001b[0mos\u001b[0m\u001b[1;33m.\u001b[0m\u001b[0mpath\u001b[0m\u001b[1;33m.\u001b[0m\u001b[0mexists\u001b[0m\u001b[1;33m(\u001b[0m\u001b[0mroot\u001b[0m\u001b[1;33m)\u001b[0m\u001b[1;33m:\u001b[0m \u001b[1;31m# 检查根目录是否存在\u001b[0m\u001b[1;33m\u001b[0m\u001b[0m\n\u001b[1;32m----> 5\u001b[1;33m         \u001b[0mos\u001b[0m\u001b[1;33m.\u001b[0m\u001b[0mmkdir\u001b[0m\u001b[1;33m(\u001b[0m\u001b[0mroot\u001b[0m\u001b[1;33m)\u001b[0m          \u001b[1;31m# 不存在 建立一个\u001b[0m\u001b[1;33m\u001b[0m\u001b[0m\n\u001b[0m\u001b[0;32m      6\u001b[0m \u001b[1;33m\u001b[0m\u001b[0m\n",
      "\u001b[1;31mFileNotFoundError\u001b[0m: [WinError 3] 系统找不到指定的路径。: 'E:/SpiderData/images/jiepai/'"
     ]
    }
   ],
   "source": [
    "import os\n",
    "root = 'E:/SpiderData/images/jiepai/' # 定义根目录\n",
    "\n",
    "if not os.path.exists(root): # 检查根目录是否存在\n",
    "        os.mkdir(root)          # 不存在 建立一个\n",
    "        "
   ]
  },
  {
   "cell_type": "code",
   "execution_count": null,
   "metadata": {
    "collapsed": true
   },
   "outputs": [],
   "source": []
  }
 ],
 "metadata": {
  "kernelspec": {
   "display_name": "Python 3",
   "language": "python",
   "name": "python3"
  },
  "language_info": {
   "codemirror_mode": {
    "name": "ipython",
    "version": 3
   },
   "file_extension": ".py",
   "mimetype": "text/x-python",
   "name": "python",
   "nbconvert_exporter": "python",
   "pygments_lexer": "ipython3",
   "version": "3.6.1"
  }
 },
 "nbformat": 4,
 "nbformat_minor": 2
}
